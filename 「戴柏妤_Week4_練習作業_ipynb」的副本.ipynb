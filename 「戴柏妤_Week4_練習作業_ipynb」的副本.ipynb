{
  "nbformat": 4,
  "nbformat_minor": 0,
  "metadata": {
    "colab": {
      "name": "「戴柏妤-Week4-練習作業.ipynb」的副本",
      "provenance": [],
      "collapsed_sections": [],
      "authorship_tag": "ABX9TyMNmRrXRX7QRCWh1Q6NVB1u",
      "include_colab_link": true
    },
    "kernelspec": {
      "name": "python3",
      "display_name": "Python 3"
    },
    "language_info": {
      "name": "python"
    }
  },
  "cells": [
    {
      "cell_type": "markdown",
      "metadata": {
        "id": "view-in-github",
        "colab_type": "text"
      },
      "source": [
        "<a href=\"https://colab.research.google.com/github/SHU115/Computational-Thanking-and-Program-Design/blob/main/%E3%80%8C%E6%88%B4%E6%9F%8F%E5%A6%A4_Week4_%E7%B7%B4%E7%BF%92%E4%BD%9C%E6%A5%AD_ipynb%E3%80%8D%E7%9A%84%E5%89%AF%E6%9C%AC.ipynb\" target=\"_parent\"><img src=\"https://colab.research.google.com/assets/colab-badge.svg\" alt=\"Open In Colab\"/></a>"
      ]
    },
    {
      "cell_type": "code",
      "metadata": {
        "id": "FHptZKmqiO1i",
        "colab": {
          "base_uri": "https://localhost:8080/"
        },
        "outputId": "f9942265-f4cd-4e24-f7bb-1515b4cf1abf"
      },
      "source": [
        "print(87)\n",
        "print(8.7)\n",
        "\n",
        "hello_py1=\"oh my god \"\n",
        "es1=\"i'm a singer\"\n",
        "es2=\"you're pretty\"\n",
        "es3=\"i'm a student\"\n",
        "print(es1,es2,es3)\n",
        "print(True)\n",
        "print(False)"
      ],
      "execution_count": null,
      "outputs": [
        {
          "output_type": "stream",
          "text": [
            "87\n",
            "8.7\n",
            "i'm a singer you're pretty i'm a student\n",
            "True\n",
            "False\n"
          ],
          "name": "stdout"
        }
      ]
    },
    {
      "cell_type": "code",
      "metadata": {
        "colab": {
          "base_uri": "https://localhost:8080/"
        },
        "id": "FhgXjeaojdRW",
        "outputId": "761756e1-1685-453a-e0c6-354a36548020"
      },
      "source": [
        "x=123\n",
        "print(type(x))\n",
        "y=\"123\"\n",
        "print(type(y))"
      ],
      "execution_count": null,
      "outputs": [
        {
          "output_type": "stream",
          "text": [
            "<class 'int'>\n",
            "<class 'str'>\n"
          ],
          "name": "stdout"
        }
      ]
    },
    {
      "cell_type": "code",
      "metadata": {
        "colab": {
          "base_uri": "https://localhost:8080/",
          "height": 282
        },
        "id": "ZQphuAkInJec",
        "outputId": "189829d5-7099-4e99-fe56-5cae119c2b4e"
      },
      "source": [
        "a=input(\"input number a=\")\n",
        "b=input(\"input number b=\")\n",
        "print(a,b)\n",
        "print(a+b)\n",
        "print(a+1)"
      ],
      "execution_count": null,
      "outputs": [
        {
          "output_type": "stream",
          "text": [
            "input number a=25\n",
            "input number b=75\n",
            "25 75\n",
            "2575\n"
          ],
          "name": "stdout"
        },
        {
          "output_type": "error",
          "ename": "TypeError",
          "evalue": "ignored",
          "traceback": [
            "\u001b[0;31m---------------------------------------------------------------------------\u001b[0m",
            "\u001b[0;31mTypeError\u001b[0m                                 Traceback (most recent call last)",
            "\u001b[0;32m<ipython-input-12-2b0fc81db421>\u001b[0m in \u001b[0;36m<module>\u001b[0;34m()\u001b[0m\n\u001b[1;32m      3\u001b[0m \u001b[0mprint\u001b[0m\u001b[0;34m(\u001b[0m\u001b[0ma\u001b[0m\u001b[0;34m,\u001b[0m\u001b[0mb\u001b[0m\u001b[0;34m)\u001b[0m\u001b[0;34m\u001b[0m\u001b[0;34m\u001b[0m\u001b[0m\n\u001b[1;32m      4\u001b[0m \u001b[0mprint\u001b[0m\u001b[0;34m(\u001b[0m\u001b[0ma\u001b[0m\u001b[0;34m+\u001b[0m\u001b[0mb\u001b[0m\u001b[0;34m)\u001b[0m\u001b[0;34m\u001b[0m\u001b[0;34m\u001b[0m\u001b[0m\n\u001b[0;32m----> 5\u001b[0;31m \u001b[0mprint\u001b[0m\u001b[0;34m(\u001b[0m\u001b[0ma\u001b[0m\u001b[0;34m+\u001b[0m\u001b[0;36m1\u001b[0m\u001b[0;34m)\u001b[0m\u001b[0;34m\u001b[0m\u001b[0;34m\u001b[0m\u001b[0m\n\u001b[0m",
            "\u001b[0;31mTypeError\u001b[0m: can only concatenate str (not \"int\") to str"
          ]
        }
      ]
    },
    {
      "cell_type": "markdown",
      "metadata": {
        "id": "aVKeqlFKsSW2"
      },
      "source": [
        "##隨堂練習"
      ]
    },
    {
      "cell_type": "code",
      "metadata": {
        "colab": {
          "base_uri": "https://localhost:8080/"
        },
        "id": "pieZpEE8sn_k",
        "outputId": "4bfb071f-3824-4dd8-dc37-05d93f916b72"
      },
      "source": [
        "print(\"Hello,My name is Jessica.i was born in 2001\")\n",
        "name=\"Jessica\"\n",
        "age=2021-2001\n",
        "print(f\"hi my name is {name} and i'm {age} years old!\")"
      ],
      "execution_count": 6,
      "outputs": [
        {
          "output_type": "stream",
          "text": [
            "Hello,My name is Jessica.i was born in 2001\n",
            "hi my name is Jessica and i'm 20 years old!\n"
          ],
          "name": "stdout"
        }
      ]
    },
    {
      "cell_type": "code",
      "metadata": {
        "colab": {
          "base_uri": "https://localhost:8080/"
        },
        "id": "r21KOfPJtVUn",
        "outputId": "08514168-a71e-41fa-d294-af7cec86a157"
      },
      "source": [
        "print(\"\\\"To be or not to be,that’s a question.\\\"-Shakespeare\")"
      ],
      "execution_count": null,
      "outputs": [
        {
          "output_type": "stream",
          "text": [
            "\"To be or not to be,that’s a question.\"-Shakespeare\n"
          ],
          "name": "stdout"
        }
      ]
    },
    {
      "cell_type": "code",
      "metadata": {
        "id": "xPqEqWSKvdqH",
        "colab": {
          "base_uri": "https://localhost:8080/"
        },
        "outputId": "8428ff9d-d8c5-459a-9515-63daf3c8bbdc"
      },
      "source": [
        "print(\"hello,My name is Jessica.I was born in 2001\")\n",
        "name= input(\"please, emter your name.\")\n",
        "year= int(input(\"please, Which calender year were you born? \"))\n",
        "age=2021 - year\n",
        "print(\"hi,My name is\", name,\"and I'm\",age,\"years old!)\")"
      ],
      "execution_count": 7,
      "outputs": [
        {
          "output_type": "stream",
          "text": [
            "hello,My name is Jessica.I was born in 2001\n",
            "please, emter your name.Hgff\n",
            "please, Which calender year were you born? 1000\n",
            "hi,My name is Hgff and I'm 1021 years old!)\n"
          ],
          "name": "stdout"
        }
      ]
    },
    {
      "cell_type": "code",
      "metadata": {
        "id": "PbsIVPEDx8gz"
      },
      "source": [
        ""
      ],
      "execution_count": null,
      "outputs": []
    }
  ]
}