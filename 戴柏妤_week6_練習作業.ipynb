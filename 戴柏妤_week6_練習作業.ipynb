{
  "nbformat": 4,
  "nbformat_minor": 0,
  "metadata": {
    "colab": {
      "name": "戴柏妤-week6-練習作業.ipynb",
      "provenance": [],
      "collapsed_sections": [],
      "authorship_tag": "ABX9TyP0AVHhfmgE4EmS8aEBjdwS",
      "include_colab_link": true
    },
    "kernelspec": {
      "name": "python3",
      "display_name": "Python 3"
    },
    "language_info": {
      "name": "python"
    }
  },
  "cells": [
    {
      "cell_type": "markdown",
      "metadata": {
        "id": "view-in-github",
        "colab_type": "text"
      },
      "source": [
        "<a href=\"https://colab.research.google.com/github/SHU115/Computational-Thanking-and-Program-Design/blob/main/%E6%88%B4%E6%9F%8F%E5%A6%A4_week6_%E7%B7%B4%E7%BF%92%E4%BD%9C%E6%A5%AD.ipynb\" target=\"_parent\"><img src=\"https://colab.research.google.com/assets/colab-badge.svg\" alt=\"Open In Colab\"/></a>"
      ]
    },
    {
      "cell_type": "code",
      "metadata": {
        "colab": {
          "base_uri": "https://localhost:8080/"
        },
        "id": "0WkSqdaYgFgP",
        "outputId": "bf354e6e-b27d-42f9-dcf9-6cba628e22b5"
      },
      "source": [
        "a=1\n",
        "print(\"a=\",a)\n",
        "print(1,2,3,4,5, sep=\",\", end=\"school\")"
      ],
      "execution_count": 1,
      "outputs": [
        {
          "output_type": "stream",
          "text": [
            "a= 1\n",
            "1,2,3,4,5school"
          ],
          "name": "stdout"
        }
      ]
    },
    {
      "cell_type": "code",
      "metadata": {
        "id": "PRGsK0RSndzN"
      },
      "source": [
        ""
      ],
      "execution_count": null,
      "outputs": []
    },
    {
      "cell_type": "markdown",
      "metadata": {
        "id": "tKhmRklJiNQ7"
      },
      "source": [
        "**隨堂練習3: 情緒變數**\n"
      ]
    },
    {
      "cell_type": "code",
      "metadata": {
        "colab": {
          "base_uri": "https://localhost:8080/"
        },
        "id": "Gx-XXbSeoSry",
        "outputId": "c96c8cea-467c-400b-c2c9-3151fb34fb66"
      },
      "source": [
        "mood=\"happy\"\n",
        "print(\"To day is not my day.\")\n",
        "print(\"too day is not my {}!\".format(mood))\n",
        "print(f\"To day is not my {mood}!\")"
      ],
      "execution_count": 4,
      "outputs": [
        {
          "output_type": "stream",
          "text": [
            "To day is not my day.\n",
            "too day is not my happy!\n",
            "To day is not my happy!\n"
          ],
          "name": "stdout"
        }
      ]
    },
    {
      "cell_type": "markdown",
      "metadata": {
        "id": "zCnnCiQEscRS"
      },
      "source": [
        "**隨堂練習4: 滑稽故事**"
      ]
    },
    {
      "cell_type": "code",
      "metadata": {
        "colab": {
          "base_uri": "https://localhost:8080/"
        },
        "id": "wFP89BfTowh9",
        "outputId": "e50b6e6b-5e41-479e-e821-255d68a35325"
      },
      "source": [
        "name=\"Jessica\"\n",
        "adjective=\"beautiful\"\n",
        "favorite_music=\"chinese pop\"\n",
        "number=\"one\"\n",
        "silly_story=(f\"Hi my name is {name}. I really like {adjective} {favorite_music}! I like it so much, I try to lisen it at least {number} times every day.\")\n",
        "print(silly_story)"
      ],
      "execution_count": 10,
      "outputs": [
        {
          "output_type": "stream",
          "text": [
            "Hi my name is Jessica. I really like beautiful chinese pop! I like it so much, I try to lisen it at least one times every day.\n"
          ],
          "name": "stdout"
        }
      ]
    },
    {
      "cell_type": "code",
      "metadata": {
        "id": "WvrBnhsHrNMt"
      },
      "source": [
        ""
      ],
      "execution_count": null,
      "outputs": []
    },
    {
      "cell_type": "markdown",
      "metadata": {
        "id": "MM_K13L9OGfY"
      },
      "source": [
        "## III. 課後練習"
      ]
    },
    {
      "cell_type": "markdown",
      "metadata": {
        "id": "xYze42bqsRud"
      },
      "source": [
        "**練習3: 變數賦值，小猴子摘水果**\n",
        "\n",
        "有一天，一隻小猴子來到果園裡，牠走道蘋果樹下，看到滿樹的蘋果，就爬上去摘了2個。又看到不滿的地方有一個梨子樹，又大又黃，就丟掉蘋果，爬到梨子樹摘了1個梨子。正準備吃的時候，看到前方又紅又大的桃子樹，就又高高興興地跑到桃樹上，摘了3個桃子。這時傳來小鳥的叫聲，鳥在香蕉樹上，當然就立馬飛奔去摘香蕉，最後吃了6根香蕉。請問這隻猴子摘了多少個水果，手中最後的水果是什麼？\n",
        "\n"
      ]
    },
    {
      "cell_type": "code",
      "metadata": {
        "colab": {
          "base_uri": "https://localhost:8080/"
        },
        "id": "p9fcLOGFsVke",
        "outputId": "525b824e-37e2-4d8d-9d70-66c44f138a23"
      },
      "source": [
        "sum=0\n",
        "apple=1+3\n",
        "pear=2\n",
        "banana=6\n",
        "sum=a+b+c\n",
        "print(sum)\n",
        "print(\"banan\")"
      ],
      "execution_count": 25,
      "outputs": [
        {
          "output_type": "stream",
          "text": [
            "12\n",
            "banan\n"
          ],
          "name": "stdout"
        }
      ]
    },
    {
      "cell_type": "markdown",
      "metadata": {
        "id": "7fhwA127sWpN"
      },
      "source": [
        "**練習4: 是真的嗎？網路資料不輕信**\n",
        "\n",
        "宣宣這學期開始學習Python，老師和學長姊都說多上網查找相關資料，多多麻煩Google大神找答案，是提升自學能力最好的方法。於是她看到一段與上課有關但老師沒有教的內容，宣宣想看看下面的內容正不正確，你能幫助她嗎？(1)在Python中，用1表示True，用0和其他非1的整數表示False。(2)在Python中，所有物件都可以進行布林測試。"
      ]
    },
    {
      "cell_type": "code",
      "metadata": {
        "id": "SU-Ick_dsaRk"
      },
      "source": [
        ""
      ],
      "execution_count": null,
      "outputs": []
    },
    {
      "cell_type": "markdown",
      "metadata": {
        "id": "m6xy3oay9M9w"
      },
      "source": [
        "**隨堂練習2: 國軍定義的危險係數公式如下，依照危險係數來判斷是否能外出操課。**\n",
        "\n",
        "危險係數  = 室外攝氏溫度 + 室外相對濕度(%) * 0.1\n",
        "\n",
        "(1)若室外溫度為攝氏32度，室外相對濕度為70％，請輸出相對應的危險係數。\n",
        "\n",
        "(2)請輸入室外溫度、輸入室外相對濕度後，輸出相對應的危險係數。\n"
      ]
    }
  ]
}