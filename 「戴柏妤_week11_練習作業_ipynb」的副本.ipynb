{
  "nbformat": 4,
  "nbformat_minor": 0,
  "metadata": {
    "colab": {
      "name": "「戴柏妤-week11-練習作業.ipynb」的副本",
      "provenance": [],
      "authorship_tag": "ABX9TyOG+OJu0ywdZrh0EfgIvpRB",
      "include_colab_link": true
    },
    "kernelspec": {
      "name": "python3",
      "display_name": "Python 3"
    },
    "language_info": {
      "name": "python"
    }
  },
  "cells": [
    {
      "cell_type": "markdown",
      "metadata": {
        "id": "view-in-github",
        "colab_type": "text"
      },
      "source": [
        "<a href=\"https://colab.research.google.com/github/SHU115/Computational-Thanking-and-Program-Design/blob/main/%E3%80%8C%E6%88%B4%E6%9F%8F%E5%A6%A4_week11_%E7%B7%B4%E7%BF%92%E4%BD%9C%E6%A5%AD_ipynb%E3%80%8D%E7%9A%84%E5%89%AF%E6%9C%AC.ipynb\" target=\"_parent\"><img src=\"https://colab.research.google.com/assets/colab-badge.svg\" alt=\"Open In Colab\"/></a>"
      ]
    },
    {
      "cell_type": "code",
      "metadata": {
        "colab": {
          "base_uri": "https://localhost:8080/"
        },
        "id": "8R1LZtjjxjQ0",
        "outputId": "697df2df-17c0-41bb-c850-6469a37f769a"
      },
      "source": [
        "#聊天機器人自我介紹\n",
        "print(\"哈囉大家好，我叫Robot，是一個聊天機器人\")\n",
        "hello=\"很高興有機會來到世新大學，請多多指教\"\n",
        "print(hello)\n",
        "\n",
        "#打招呼，取得對方名字\n",
        "print(\"嗨!你好\")\n",
        "name=input(\"請問大名?:\")\n",
        "print(f\"{name}，很高興認識你，\")\n",
        "\n",
        "#從使用者取得今年年分\n",
        "year=input(\"請問今年西元2021年，是民國幾年呢?\")\n",
        "print(\"對!沒錯，謝謝你!\")\n",
        "\n",
        "#請使用者猜年齡\n",
        "age=input(\"猜猜看我今年幾歲?:\")\n",
        "print(f\"哇!你好聰明，我今年的確{age}\")\n",
        "\n",
        "#計算聊天機器人滿100歲的年份\n",
        "year=int(year)\n",
        "age=int(age)\n",
        "print(f\"在{100-age}年我就100歲了。\")\n",
        "time=year+1911+(100-age)\n",
        "print(f\"那時候是西元{time}年，也就是民國{time-1911}年嘍\")\n",
        "\n",
        "#食物話題\n",
        "print(\"我喜歡吃巧克力，也喜歡嘗試各種新食物。\"\n",
        "food=input(\"你呢? 你喜歡吃甚麼食物?\")\n",
        "print(f\"我也喜歡{food}。\")\n",
        "howoften=input(\"你多久吃一次\"+food+\"?\")\n",
        "print(\"真有趣不知道這樣對健康好不好\")\n",
        "\n",
        "#動物話題\n",
        "print(\"我喜歡刺蝟，是因為可愛\")\n",
        "animal=input(\"你呢?你喜歡甚麼動物?\")\n",
        "print(f\"咪兔，我也喜歡{animal}!\")\n",
        "print(f\"不知道{animal}能不能吃{food}?\")\n",
        "\n",
        "#關於心情的對話\n",
        "mood=input(\"你今天心情如何?\")\n",
        "print(f\"可以告訴我妳{mood}的原因嗎?\")\\\n",
        "reason=input(\"why?\")\n",
        "print(\"祝你周末愉快\")\n",
        "\n",
        "#到別\n",
        "print(\"我喜歡跟你聊天，現在有點晚了，改天聊!\")\n",
        "print(f\"seeya{name}\")\n"
      ],
      "execution_count": null,
      "outputs": [
        {
          "output_type": "stream",
          "text": [
            "哈囉大家好，我叫Robot，是一個聊天機器人\n",
            "很高興有機會來到世新大學，請多多指教\n",
            "嗨!你好\n",
            "請問大名?:show\n",
            "show，很高興認識你，\n",
            "請問今年西元2021年，是民國幾年呢?110\n",
            "對!沒錯，謝謝你!\n",
            "猜猜看我今年幾歲?:19\n",
            "哇!你好聰明，我今年的確19\n",
            "在81年我就100歲了。\n",
            "那時候是西元2102年，也就是民國191年嘍\n"
          ],
          "name": "stdout"
        }
      ]
    },
    {
      "cell_type": "markdown",
      "metadata": {
        "id": "XmjKGwn99eEo"
      },
      "source": [
        "###期末報告"
      ]
    },
    {
      "cell_type": "markdown",
      "metadata": {
        "id": "gegjmZgA-GDz"
      },
      "source": [
        "##組長(學號姓名): A109010115 戴柏妤\n",
        "\n",
        "##組員(學號姓名): A108050190 梅宇杭 A109010058文及均 A109010142羅詠馨\n",
        "\n",
        "#腳本"
      ]
    },
    {
      "cell_type": "code",
      "metadata": {
        "id": "n22PjHJ__N33"
      },
      "source": [
        ""
      ],
      "execution_count": null,
      "outputs": []
    }
  ]
}