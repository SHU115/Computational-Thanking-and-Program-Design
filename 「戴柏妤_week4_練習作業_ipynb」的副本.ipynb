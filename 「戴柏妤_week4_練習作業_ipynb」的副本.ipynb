{
  "nbformat": 4,
  "nbformat_minor": 0,
  "metadata": {
    "colab": {
      "name": "「戴柏妤-week4-練習作業.ipynb」的副本",
      "provenance": [],
      "collapsed_sections": [],
      "authorship_tag": "ABX9TyN8MlkQfsSNQxVklTwD/36S",
      "include_colab_link": true
    },
    "kernelspec": {
      "name": "python3",
      "display_name": "Python 3"
    }
  },
  "cells": [
    {
      "cell_type": "markdown",
      "metadata": {
        "id": "view-in-github",
        "colab_type": "text"
      },
      "source": [
        "<a href=\"https://colab.research.google.com/github/SHU115/Computational-Thanking-and-Program-Design/blob/main/%E3%80%8C%E6%88%B4%E6%9F%8F%E5%A6%A4_week4_%E7%B7%B4%E7%BF%92%E4%BD%9C%E6%A5%AD_ipynb%E3%80%8D%E7%9A%84%E5%89%AF%E6%9C%AC.ipynb\" target=\"_parent\"><img src=\"https://colab.research.google.com/assets/colab-badge.svg\" alt=\"Open In Colab\"/></a>"
      ]
    },
    {
      "cell_type": "code",
      "metadata": {
        "id": "5SYvTTPHUyLl"
      },
      "source": [
        ""
      ],
      "execution_count": null,
      "outputs": []
    },
    {
      "cell_type": "markdown",
      "metadata": {
        "id": "T8hCU0MZVAE5"
      },
      "source": [
        "#隨堂練習"
      ]
    },
    {
      "cell_type": "code",
      "metadata": {
        "id": "uQiZ1VGaX449"
      },
      "source": [
        ""
      ],
      "execution_count": null,
      "outputs": []
    },
    {
      "cell_type": "markdown",
      "metadata": {
        "id": "6yAbxHA-X9MQ"
      },
      "source": [
        "#課後練習"
      ]
    },
    {
      "cell_type": "markdown",
      "metadata": {
        "id": "yj51IKLxX5Ny"
      },
      "source": [
        "從一則新聞報導，提出你對新聞系（OO系）學生為什麼要學「運算思維與程式設計」的見解。（告訴我新聞連結，以及你的觀點即可。）"
      ]
    },
    {
      "cell_type": "markdown",
      "metadata": {
        "id": "zwhL_0mmZZLW"
      },
      "source": [
        "[連結文字](https://)https://tw.news.yahoo.com/%E6%8F%90%E9%AB%98%E7%AB%B6%E7%88%AD%E5%8A%9B-%E5%8C%97%E5%A4%A7%E5%AE%A3%E5%B8%83%E7%A8%8B%E5%BC%8F%E8%A8%AD%E8%A8%88%E5%88%97%E5%BF%85%E4%BF%AE-025527219.html"
      ]
    },
    {
      "cell_type": "markdown",
      "metadata": {
        "id": "d-aqwHu_aOZx"
      },
      "source": [
        "對於新聞系學生要學程式設計，一開始或許會感到疑惑甚至不解，可是當看到同年齡層的學生都會使用程式語言後，會覺得學習程式語言並非壞事。在未來我們也能使用程式設計做關於新聞的統整或文字上的編排，最重要的是，近幾年是網路開發的時代，因此程式語言還是很重要的。"
      ]
    },
    {
      "cell_type": "code",
      "metadata": {
        "id": "offFyGVdbIKA"
      },
      "source": [
        ""
      ],
      "execution_count": null,
      "outputs": []
    }
  ]
}